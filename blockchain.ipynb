{
  "nbformat": 4,
  "nbformat_minor": 0,
  "metadata": {
    "colab": {
      "name": "blockchain.ipynb",
      "provenance": []
    },
    "kernelspec": {
      "name": "python3",
      "display_name": "Python 3"
    }
  },
  "cells": [
    {
      "cell_type": "code",
      "metadata": {
        "colab": {
          "base_uri": "https://localhost:8080/"
        },
        "id": "W6X9vhLYdj-6",
        "outputId": "559681f0-93be-4a53-fc7a-62128b75f9a4"
      },
      "source": [
        "from hashlib import sha256\r\n",
        "import json\r\n",
        "import time\r\n",
        "\r\n",
        "from flask_ngrok import run_with_ngrok\r\n",
        "from flask import Flask, request\r\n",
        "import requests\r\n",
        "\r\n",
        "class Block:\r\n",
        "    def __init__(self, index, transactions, timestamp, previous_hash, nonce=0):\r\n",
        "        self.index = index\r\n",
        "        self.transactions = transactions\r\n",
        "        self.timestamp = timestamp\r\n",
        "        self.previous_hash = previous_hash\r\n",
        "        self.nonce = nonce\r\n",
        "\r\n",
        "    def compute_hash(self):\r\n",
        "        block_string = json.dumps(self.__dict__, sort_keys=True)\r\n",
        "        return sha256(block_string.encode()).hexdigest()\r\n",
        "\r\n",
        "class Blockchain: \r\n",
        "    def __init__(self):\r\n",
        "        self.unconfirmed_transactions = []\r\n",
        "        self.chain = []\r\n",
        "        self.create_genesis_block()\r\n",
        " \r\n",
        "    def create_genesis_block(self):\r\n",
        "        genesis_block = Block(0, [], time.time(), \"0\")\r\n",
        "        genesis_block.hash = genesis_block.compute_hash()\r\n",
        "        self.chain.append(genesis_block)\r\n",
        "    @property\r\n",
        "    def last_block(self):\r\n",
        "        return self.chain[-1]\r\n",
        "    \r\n",
        "    difficulty = 3\r\n",
        "    def proof_of_work(self, block):\r\n",
        "        block.nonce = 0\r\n",
        "        computed_hash = block.compute_hash()\r\n",
        "        while not computed_hash.startswith('0' * Blockchain.difficulty):\r\n",
        "            block.nonce += 1\r\n",
        "            computed_hash = block.compute_hash()\r\n",
        "        return computed_hash\r\n",
        "\r\n",
        "    def add_block(self, block, proof):\r\n",
        "        previous_hash = self.last_block.hash\r\n",
        "        if previous_hash != block.previous_hash:\r\n",
        "            return False\r\n",
        "        if not self.is_valid_proof(block, proof):\r\n",
        "            return False\r\n",
        "        block.hash = proof\r\n",
        "        self.chain.append(block)\r\n",
        "        return True\r\n",
        " \r\n",
        "    def is_valid_proof(self, block, block_hash):\r\n",
        "        return (block_hash.startswith('0' * Blockchain.difficulty) and block_hash == block.compute_hash())\r\n",
        "\r\n",
        "    def add_new_transaction(self, transaction):\r\n",
        "            self.unconfirmed_transactions.append(transaction)\r\n",
        "\r\n",
        "    def mine(self):\r\n",
        "        \"\"\"\r\n",
        "        This function serves as an interface to add the pending\r\n",
        "        transactions to the blockchain by adding them to the block\r\n",
        "        and figuring out Proof Of Work.\r\n",
        "        \"\"\"\r\n",
        "        if not self.unconfirmed_transactions:\r\n",
        "            return False\r\n",
        "\r\n",
        "        last_block = self.last_block\r\n",
        "\r\n",
        "        new_block = Block(index=last_block.index + 1,\r\n",
        "                          transactions=self.unconfirmed_transactions,\r\n",
        "                          timestamp=time.time(),\r\n",
        "                          previous_hash=last_block.hash)\r\n",
        "\r\n",
        "        proof = self.proof_of_work(new_block)\r\n",
        "        self.add_block(new_block, proof)\r\n",
        "\r\n",
        "        self.unconfirmed_transactions = []\r\n",
        "        return new_block.index\r\n",
        "\r\n",
        "\r\n",
        "app = Flask(__name__)\r\n",
        "run_with_ngrok(app)  \r\n",
        "blockchain = Blockchain()\r\n",
        "\r\n",
        "@app.route(\"/\")\r\n",
        "def get_chain():\r\n",
        "    chain_data = []\r\n",
        "    for block in blockchain.chain:\r\n",
        "        chain_data.append(block.__dict__)\r\n",
        "    return json.dumps({\"length\": len(chain_data), \"chain\": chain_data})\r\n",
        "app.run()\r\n"
      ],
      "execution_count": 33,
      "outputs": [
        {
          "output_type": "stream",
          "text": [
            " * Serving Flask app \"__main__\" (lazy loading)\n",
            " * Environment: production\n",
            "\u001b[31m   WARNING: This is a development server. Do not use it in a production deployment.\u001b[0m\n",
            "\u001b[2m   Use a production WSGI server instead.\u001b[0m\n",
            " * Debug mode: off\n"
          ],
          "name": "stdout"
        },
        {
          "output_type": "stream",
          "text": [
            " * Running on http://127.0.0.1:5000/ (Press CTRL+C to quit)\n"
          ],
          "name": "stderr"
        },
        {
          "output_type": "stream",
          "text": [
            " * Running on http://71e897ec6fdd.ngrok.io\n",
            " * Traffic stats available on http://127.0.0.1:4040\n"
          ],
          "name": "stdout"
        },
        {
          "output_type": "stream",
          "text": [
            "127.0.0.1 - - [03/Mar/2021 15:45:47] \"\u001b[37mGET / HTTP/1.1\u001b[0m\" 200 -\n",
            "127.0.0.1 - - [03/Mar/2021 15:45:47] \"\u001b[33mGET /favicon.ico HTTP/1.1\u001b[0m\" 404 -\n"
          ],
          "name": "stderr"
        }
      ]
    },
    {
      "cell_type": "code",
      "metadata": {
        "colab": {
          "base_uri": "https://localhost:8080/"
        },
        "id": "ZmI3Poshteud",
        "outputId": "0ede2d0e-fb3a-4f4c-c280-d27cd2654d91"
      },
      "source": [
        "!pip install flask-ngrok"
      ],
      "execution_count": 23,
      "outputs": [
        {
          "output_type": "stream",
          "text": [
            "Collecting flask-ngrok\n",
            "  Downloading https://files.pythonhosted.org/packages/af/6c/f54cb686ad1129e27d125d182f90f52b32f284e6c8df58c1bae54fa1adbc/flask_ngrok-0.0.25-py3-none-any.whl\n",
            "Requirement already satisfied: Flask>=0.8 in /usr/local/lib/python3.7/dist-packages (from flask-ngrok) (1.1.2)\n",
            "Requirement already satisfied: requests in /usr/local/lib/python3.7/dist-packages (from flask-ngrok) (2.23.0)\n",
            "Requirement already satisfied: Jinja2>=2.10.1 in /usr/local/lib/python3.7/dist-packages (from Flask>=0.8->flask-ngrok) (2.11.3)\n",
            "Requirement already satisfied: Werkzeug>=0.15 in /usr/local/lib/python3.7/dist-packages (from Flask>=0.8->flask-ngrok) (1.0.1)\n",
            "Requirement already satisfied: click>=5.1 in /usr/local/lib/python3.7/dist-packages (from Flask>=0.8->flask-ngrok) (7.1.2)\n",
            "Requirement already satisfied: itsdangerous>=0.24 in /usr/local/lib/python3.7/dist-packages (from Flask>=0.8->flask-ngrok) (1.1.0)\n",
            "Requirement already satisfied: chardet<4,>=3.0.2 in /usr/local/lib/python3.7/dist-packages (from requests->flask-ngrok) (3.0.4)\n",
            "Requirement already satisfied: urllib3!=1.25.0,!=1.25.1,<1.26,>=1.21.1 in /usr/local/lib/python3.7/dist-packages (from requests->flask-ngrok) (1.24.3)\n",
            "Requirement already satisfied: certifi>=2017.4.17 in /usr/local/lib/python3.7/dist-packages (from requests->flask-ngrok) (2020.12.5)\n",
            "Requirement already satisfied: idna<3,>=2.5 in /usr/local/lib/python3.7/dist-packages (from requests->flask-ngrok) (2.10)\n",
            "Requirement already satisfied: MarkupSafe>=0.23 in /usr/local/lib/python3.7/dist-packages (from Jinja2>=2.10.1->Flask>=0.8->flask-ngrok) (1.1.1)\n",
            "Installing collected packages: flask-ngrok\n",
            "Successfully installed flask-ngrok-0.0.25\n"
          ],
          "name": "stdout"
        }
      ]
    }
  ]
}